{
 "cells": [
  {
   "cell_type": "code",
   "execution_count": 2,
   "metadata": {},
   "outputs": [],
   "source": [
    "import os\n",
    "import pandas\n",
    "import matplotlib.pyplot as plt\n",
    "import numpy as np"
   ]
  },
  {
   "cell_type": "code",
   "execution_count": 3,
   "metadata": {},
   "outputs": [],
   "source": [
    "# load_data itterates through the diectory where the data is stored\n",
    "# calls the sore_dataframe function to store the data in the correct location\n",
    "def load_data():\n",
    "    rootdir = 'Data'\n",
    "\n",
    "    for subdir, dirs, files in os.walk(rootdir):\n",
    "        for file in files:\n",
    "            if file.endswith(\".csv\"):\n",
    "                df = pandas.read_csv(os.path.join(subdir, file))\n",
    "                store_dataframe(df,subdir)"
   ]
  },
  {
   "cell_type": "code",
   "execution_count": 4,
   "metadata": {},
   "outputs": [],
   "source": [
    "# store_dataframe takes in the dataframe and the sub-directory of the file from which the data has come from\n",
    "# the dataframe is then added to the list which it belongs in based off the subdirectory the data came from\n",
    "def store_dataframe(df, subdir):\n",
    "    if \"Federer\" in subdir:\n",
    "        if \"Front\" in subdir:\n",
    "            male_a_front.append(df)\n",
    "        if \"Rear\" in subdir:\n",
    "            male_a_rear.append(df)\n",
    "        if \"Side_Back\" in subdir:\n",
    "            male_a_side_back.append(df)\n",
    "        if \"Side_FaceOn\" in subdir:\n",
    "            male_a_side_faceon.append(df)\n",
    "    \n",
    "    if \"Nadal\" in subdir:\n",
    "        if \"Front\" in subdir:\n",
    "            male_b_front.append(df)\n",
    "        if \"Rear\" in subdir:\n",
    "            male_b_rear.append(df)\n",
    "        if \"Side_Back\" in subdir:\n",
    "            male_b_side_back.append(df)\n",
    "        if \"Side_FaceOn\" in subdir:\n",
    "            male_b_side_faceon.append(df)\n",
    "    \n",
    "    if \"Williams\" in subdir:\n",
    "        if \"Front\" in subdir:\n",
    "            female_a_front.append(df)\n",
    "        if \"Rear\" in subdir:\n",
    "            female_a_rear.append(df)\n",
    "        if \"Side_Back\" in subdir:\n",
    "            female_a_side_back.append(df)\n",
    "        if \"Side_FaceOn\" in subdir:\n",
    "            female_a_side_faceon.append(df)\n",
    "    \n",
    "    if \"Wozniacki\" in subdir:\n",
    "        if \"Front\" in subdir:\n",
    "            female_b_front.append(df)\n",
    "        if \"Rear\" in subdir:\n",
    "            female_b_rear.append(df)\n",
    "        if \"Side_Back\" in subdir:\n",
    "            female_b_side_back.append(df)\n",
    "        if \"Side_FaceOn\" in subdir:\n",
    "            female_b_side_faceon.append(df)"
   ]
  },
  {
   "cell_type": "code",
   "execution_count": 12,
   "metadata": {},
   "outputs": [],
   "source": [
    "#Lists initiated for each player and angle of videos\n",
    "male_a_front = []\n",
    "male_a_rear = []\n",
    "male_a_side_faceon = []\n",
    "male_a_side_back = []\n",
    "    \n",
    "male_b_front = []\n",
    "male_b_rear = []\n",
    "male_b_side_faceon = []\n",
    "male_b_side_back = []\n",
    "    \n",
    "female_a_front = []\n",
    "female_a_rear = []\n",
    "female_a_side_faceon = []\n",
    "female_a_side_back = []\n",
    "    \n",
    "female_b_front = []\n",
    "female_b_rear = []\n",
    "female_b_side_faceon = []\n",
    "female_b_side_back = []\n",
    "\n",
    "FRONT = 0\n",
    "REAR = 1\n",
    "SIDE_FACEON = 2\n",
    "SIDE_BACK = 3\n",
    "\n",
    "# Load data into all the lists for each player and angle of video\n",
    "# Each list will be initialised with the dataframes of 3 different videos\n",
    "load_data()\n",
    "\n",
    "male_a = [male_a_front,male_a_rear,male_a_side_faceon,male_a_side_back]\n",
    "male_b = [male_b_front,male_b_rear,male_b_side_faceon,male_b_side_back]\n",
    "\n",
    "female_a = [female_a_front,female_a_rear,female_a_side_faceon,female_a_side_back]\n",
    "female_b = [female_b_front,female_b_rear,female_b_side_faceon,female_b_side_back]\n",
    "\n",
    "players = [male_a,male_b,female_a,female_b]"
   ]
  },
  {
   "cell_type": "code",
   "execution_count": 36,
   "metadata": {},
   "outputs": [],
   "source": [
    "# average_PCLJ takes in the data from a player\n",
    "#  iterates through each dataframe and calculates the average PCLJ of all videos combined\n",
    "def average_PCLJ(player):\n",
    "    total = 0.0\n",
    "    num_of_videos = 0\n",
    "    \n",
    "    for angle in player:\n",
    "        for video in angle:\n",
    "            total += video[\"PCLJ\"].mean()\n",
    "            num_of_videos += 1\n",
    "            \n",
    "    return total / num_of_videos"
   ]
  },
  {
   "cell_type": "code",
   "execution_count": 37,
   "metadata": {},
   "outputs": [
    {
     "name": "stdout",
     "output_type": "stream",
     "text": [
      "Average PCLJ across all videos = 0.5118677539146403\n"
     ]
    }
   ],
   "source": [
    "# The average Percent of Correct Limb Joints calculated here\n",
    "total = 0\n",
    "\n",
    "for player in players:\n",
    "    total += average_PCLJ(player)\n",
    "    \n",
    "print(\"Average PCLJ across all videos = {}\".format(total/len(players)))"
   ]
  },
  {
   "cell_type": "code",
   "execution_count": 38,
   "metadata": {},
   "outputs": [],
   "source": [
    "#looking into plotting results just looking at one video for now\n",
    "#change to an average score at certain points of the serve and plot as a polynomial perhaps\n",
    "#x = male_a_front[0][\"FRAME\"]\n",
    "#y = male_a_front[0][\"PCLJ\"]\n",
    "\n",
    "#plt.scatter(x, y)"
   ]
  },
  {
   "cell_type": "code",
   "execution_count": 1,
   "metadata": {},
   "outputs": [],
   "source": [
    "# TODO\n",
    "# Graph of the performance of Posenet during key points of the serve\n",
    "# Comparison of legs verus arms on a graph similar to as mentioned above\n",
    "# How does it perform on left handed player(player_b) in comparison to right handed players"
   ]
  },
  {
   "cell_type": "code",
   "execution_count": 18,
   "metadata": {},
   "outputs": [],
   "source": [
    "def average_angle_PCLJ(angle):\n",
    "    total = 0.0\n",
    "    num_of_videos = 0\n",
    "    \n",
    "    for player in players:\n",
    "        for video in player[angle]:\n",
    "            total += video[\"PCLJ\"].mean()\n",
    "            num_of_videos += 1\n",
    "            \n",
    "    return total / num_of_videos"
   ]
  },
  {
   "cell_type": "code",
   "execution_count": 23,
   "metadata": {},
   "outputs": [
    {
     "name": "stdout",
     "output_type": "stream",
     "text": [
      "Average PCLJ from front= 0.5243090526138345\n"
     ]
    }
   ],
   "source": [
    "print(\"Average PCLJ from front= \" + str(average_angle_PCLJ(FRONT)))"
   ]
  },
  {
   "cell_type": "code",
   "execution_count": 24,
   "metadata": {},
   "outputs": [
    {
     "name": "stdout",
     "output_type": "stream",
     "text": [
      "Average PCLJ from rear= 0.4072483774979559\n"
     ]
    }
   ],
   "source": [
    "print(\"Average PCLJ from rear= \" + str(average_angle_PCLJ(REAR)))"
   ]
  },
  {
   "cell_type": "code",
   "execution_count": 25,
   "metadata": {},
   "outputs": [
    {
     "name": "stdout",
     "output_type": "stream",
     "text": [
      "Average PCLJ from side face on= 0.601617650624989\n"
     ]
    }
   ],
   "source": [
    "print(\"Average PCLJ from side face on= \" + str(average_angle_PCLJ(SIDE_FACEON)))"
   ]
  },
  {
   "cell_type": "code",
   "execution_count": 27,
   "metadata": {},
   "outputs": [
    {
     "name": "stdout",
     "output_type": "stream",
     "text": [
      "Average PCLJ from side back= 0.5336230844245703\n"
     ]
    }
   ],
   "source": [
    "print(\"Average PCLJ from side back= \" + str(average_angle_PCLJ(SIDE_BACK)))"
   ]
  },
  {
   "cell_type": "code",
   "execution_count": 30,
   "metadata": {},
   "outputs": [],
   "source": [
    "def average_part_PCLJ(player,part):\n",
    "    total = 0.0\n",
    "    num_of_videos = 0\n",
    "    \n",
    "    for angle in player:\n",
    "        for video in angle:\n",
    "            total += (video[part]/6).mean()\n",
    "            num_of_videos += 1\n",
    "            \n",
    "    return total / num_of_videos"
   ]
  },
  {
   "cell_type": "code",
   "execution_count": 31,
   "metadata": {},
   "outputs": [
    {
     "name": "stdout",
     "output_type": "stream",
     "text": [
      "Average PCLJ across all videos for upper body = 0.3608473909959951\n"
     ]
    }
   ],
   "source": [
    "total = 0\n",
    "\n",
    "for player in players:\n",
    "    total += average_upper(player,\"UPPER BODY\")\n",
    "    \n",
    "print(\"Average PCLJ across all videos for upper body = {}\".format(total/len(players)))"
   ]
  },
  {
   "cell_type": "code",
   "execution_count": 32,
   "metadata": {},
   "outputs": [
    {
     "name": "stdout",
     "output_type": "stream",
     "text": [
      "Average PCLJ across all videos for lower body = 0.6624371789216899\n"
     ]
    }
   ],
   "source": [
    "total = 0\n",
    "\n",
    "for player in players:\n",
    "    total += average_upper(player,\"LOWER BODY\")\n",
    "    \n",
    "print(\"Average PCLJ across all videos for lower body = {}\".format(total/len(players)))"
   ]
  },
  {
   "cell_type": "code",
   "execution_count": 39,
   "metadata": {},
   "outputs": [
    {
     "name": "stdout",
     "output_type": "stream",
     "text": [
      "Average PCLJ for male players= 0.5361979897900495\n"
     ]
    }
   ],
   "source": [
    "print(\"Average PCLJ for male players= \" + str((average_PCLJ(male_a)+average_PCLJ(male_b))/2))"
   ]
  },
  {
   "cell_type": "code",
   "execution_count": 40,
   "metadata": {},
   "outputs": [
    {
     "name": "stdout",
     "output_type": "stream",
     "text": [
      "Average PCLJ for male players= 0.48753751803923107\n"
     ]
    }
   ],
   "source": [
    "print(\"Average PCLJ for male players= \" + str((average_PCLJ(female_a)+average_PCLJ(female_b))/2))"
   ]
  },
  {
   "cell_type": "code",
   "execution_count": null,
   "metadata": {},
   "outputs": [],
   "source": []
  }
 ],
 "metadata": {
  "kernelspec": {
   "display_name": "Python 3",
   "language": "python",
   "name": "python3"
  },
  "language_info": {
   "codemirror_mode": {
    "name": "ipython",
    "version": 3
   },
   "file_extension": ".py",
   "mimetype": "text/x-python",
   "name": "python",
   "nbconvert_exporter": "python",
   "pygments_lexer": "ipython3",
   "version": "3.6.9"
  }
 },
 "nbformat": 4,
 "nbformat_minor": 2
}
